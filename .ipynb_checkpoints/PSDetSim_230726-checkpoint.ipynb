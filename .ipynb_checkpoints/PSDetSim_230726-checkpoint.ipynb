{
 "cells": [
  {
   "cell_type": "code",
   "execution_count": 1,
   "metadata": {},
   "outputs": [
    {
     "name": "stdout",
     "output_type": "stream",
     "text": [
      "Welcome to JupyROOT 6.24/00\n"
     ]
    }
   ],
   "source": [
    "from __future__ import print_function\n",
    "import struct\n",
    "import numpy as np\n",
    "import math\n",
    "import os\n",
    "import sys\n",
    "import ROOT\n",
    "import array\n",
    "import matplotlib.pyplot as plt\n",
    "import re\n",
    "\n",
    "import matplotlib.pylab as pltt\n",
    "from mpl_toolkits.axes_grid1 import make_axes_locatable\n",
    "from matplotlib.colors import LogNorm\n",
    "from matplotlib.patches import Ellipse,Arrow\n",
    "from matplotlib.ticker import MaxNLocator\n",
    "from matplotlib.ticker import (MultipleLocator, AutoMinorLocator)\n",
    "\n",
    "import matplotlib\n",
    "font = {'family' : 'Times New Roman',\n",
    "        'weight' : 'normal',\n",
    "        'size'   : 20}\n",
    "matplotlib.rc('font', **font)\n",
    "import matplotlib.font_manager as font_manager"
   ]
  },
  {
   "cell_type": "code",
   "execution_count": 2,
   "metadata": {},
   "outputs": [],
   "source": [
    "%load_ext autoreload\n",
    "%autoreload 2\n",
    "module_path = os.path.abspath(os.path.join('build')) # or the path to your source code\n",
    "sys.path.insert(0, module_path)"
   ]
  },
  {
   "cell_type": "code",
   "execution_count": 3,
   "metadata": {},
   "outputs": [
    {
     "name": "stdout",
     "output_type": "stream",
     "text": [
      "\n",
      "\u001b[1mRooFit v3.60 -- Developed by Wouter Verkerke and David Kirkby\u001b[0m \n",
      "                Copyright (C) 2000-2013 NIKHEF, University of California & Stanford University\n",
      "                All rights reserved, please read http://roofit.sourceforge.net/license.txt\n",
      "\n"
     ]
    }
   ],
   "source": [
    "import simulation as sim"
   ]
  },
  {
   "cell_type": "code",
   "execution_count": 4,
   "metadata": {},
   "outputs": [
    {
     "name": "stdout",
     "output_type": "stream",
     "text": [
      "index=39\n",
      "*****************\n",
      "Simulation parameters:\n",
      "\n",
      "Fix implant position?  0\n",
      "Beam time = 3600\n",
      "Beam rate = 6.08889\n",
      "Isotope percentage = 100\n",
      "Beta Gaussian background = 11.078\n",
      "Beta Uniform background = 1e-10\n",
      "Neutron background = 50.3635\n",
      "2 Neutron background = 5\n",
      "Percentage of neutron correlated with random beta background = 3.14\n",
      "Percentage of 2 neutron correlated with random beta background = 0.12\n",
      "Beta Efficiency = 41.7391\n",
      "Neutron Efficiency = 66.8\n",
      "Beta neutron moderation time = 2.1e-05\n",
      "Beam neutron moderation time = 2.7e-05\n",
      "xmin = 0\n",
      "xmax = 128\n",
      "ymin = 0\n",
      "ymax = 128\n",
      "ximpmean = 64\n",
      "ximpsigma = 14\n",
      "yimpmean = 64\n",
      "yimpsigma = 19\n",
      "deltaxylimit = 3\n",
      "dxbetamean = 0\n",
      "dxbetasigma = 1.04\n",
      "dybetamean = 0\n",
      "dybetasigma = 0.625\n",
      "xbetabkgmean = 64\n",
      "xbetabkgsigma = 14\n",
      "ybetabkgmean = 64\n",
      "ybetabkgsigma = 19\n",
      "ybetabkgmean = 64\n",
      "ybetabkgsigma = 19\n",
      "Offset time stamp = 3600\n",
      "Percentage of neutron correlated with beam = 0\n",
      "*****************\n",
      "\n",
      "reading histograms hy.root, hx.root, himpx.root, himpy.root, hdx.root and hdy.root for beta background distribution\n",
      "--------\n",
      "21994\n",
      "52201\n",
      "15878\n",
      "47740\n",
      "47806\n",
      "1633\n",
      "184711\n",
      "36538\n",
      "------------\n",
      "21994\n",
      "147747\n",
      "238760\n",
      "6.76833 % completed - 4920/888/241\r",
      "13.5367 % completed - 10084/1791/502\r",
      "20.305 % completed - 15277/2633/722\r",
      "27.0733 % completed - 20647/3462/967\r",
      "33.8416 % completed - 25959/4340/1192\r",
      "40.61 % completed - 31113/5176/1437\r",
      "47.3783 % completed - 36440/6004/1676\r",
      "54.1466 % completed - 41740/6814/1924\r",
      "60.9149 % completed - 47027/7705/2137\r",
      "67.6833 % completed - 52312/8574/2380\r",
      "74.4516 % completed - 57686/9409/2599\r",
      "81.2199 % completed - 58465/9696/2664\r",
      "87.9883 % completed - 58465/9828/2664\r",
      "94.7566 % completed - 58465/9828/2664\r"
     ]
    },
    {
     "name": "stderr",
     "output_type": "stream",
     "text": [
      "void decaypath::Init(char*) read input files:\n",
      "build/parmsex.txt\n",
      "void decaypath::makePath()\n"
     ]
    }
   ],
   "source": [
    "simhandle = sim.simulation(\"build/parmsex.txt\",\"build/simparmsex.txt\",\"build/test.root\")"
   ]
  },
  {
   "cell_type": "code",
   "execution_count": null,
   "metadata": {},
   "outputs": [],
   "source": []
  }
 ],
 "metadata": {
  "kernelspec": {
   "display_name": "venv",
   "language": "python",
   "name": "venv"
  },
  "language_info": {
   "codemirror_mode": {
    "name": "ipython",
    "version": 3
   },
   "file_extension": ".py",
   "mimetype": "text/x-python",
   "name": "python",
   "nbconvert_exporter": "python",
   "pygments_lexer": "ipython3",
   "version": "3.6.8"
  }
 },
 "nbformat": 4,
 "nbformat_minor": 2
}
